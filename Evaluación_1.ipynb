{
  "nbformat": 4,
  "nbformat_minor": 0,
  "metadata": {
    "colab": {
      "provenance": [],
      "authorship_tag": "ABX9TyNTbsSN3YzCYT9wi8gcNZdl",
      "include_colab_link": true
    },
    "kernelspec": {
      "name": "python3",
      "display_name": "Python 3"
    },
    "language_info": {
      "name": "python"
    }
  },
  "cells": [
    {
      "cell_type": "markdown",
      "metadata": {
        "id": "view-in-github",
        "colab_type": "text"
      },
      "source": [
        "<a href=\"https://colab.research.google.com/github/TobiasLozano/evaluaciones_python_202520/blob/main/Evaluaci%C3%B3n_1.ipynb\" target=\"_parent\"><img src=\"https://colab.research.google.com/assets/colab-badge.svg\" alt=\"Open In Colab\"/></a>"
      ]
    },
    {
      "cell_type": "markdown",
      "source": [
        "\n",
        "Evaluación 1\n",
        "Python aplicado a la Ingeniería 202520\n",
        "\n",
        "Docente: Miguel Ortiz Padilla\n",
        "\n",
        "Estudiante: Tobias Lozano Florez\n",
        "\n",
        "email: tobias.lozano@upb.edu.co\n",
        "\n",
        "Fecha: 30/07/2025\n"
      ],
      "metadata": {
        "id": "EUZ7cJYPoTEk"
      }
    },
    {
      "cell_type": "markdown",
      "source": [
        "**Problem #1:** letter_frequency\n",
        "\n",
        "Write a program that receives a sentence from the user and displays how many times each unique\n",
        "letter appears. Ignore spaces and make the comparison case-insensitive (i.e., treat 'A' and 'a' as the\n",
        "same letter).\n",
        "Bonus: Display the results sorted from the most frequent to the least frequent letter."
      ],
      "metadata": {
        "id": "-wanopZKogvL"
      }
    },
    {
      "cell_type": "code",
      "source": [
        "# Program inputs\n",
        "input_sentence = 'hello world'\n",
        "# Delete blank spaces from input string\n",
        "input_letters = input_sentence.lower().replace(' ','')\n",
        "# Get a collection of letters on input sentence without repetitions\n",
        "unique_letters = set(input_letters)\n",
        "letter_count = {}\n",
        "# Get the apparitions number of each letter\n",
        "for letter in unique_letters:\n",
        "    letter_count[letter] = input_letters.count(letter)\n",
        "# Sort the letters aparition number in descendant order\n",
        "letter_apparitions = letter_count.values()\n",
        "sorted_letter_apparitions = sorted(letter_apparitions,reverse=True)\n",
        "\n",
        "# Approach to acomplish bonus problem\n",
        "for letter_apparitions in sorted_letter_apparitions:\n",
        "    # Get letter by apparitions count\n",
        "    # letter_count.values() and letter_count.keys() are interables but not lists by default\n",
        "    value_index_on_letter_count = list(letter_count.values()).index(letter_apparitions)\n",
        "    key_on_letter_count = list(letter_count.keys())[value_index_on_letter_count]\n",
        "    print(f\"{key_on_letter_count}: {letter_apparitions}\")\n",
        "    # delete letter count already printed\n",
        "    letter_count.pop(key_on_letter_count)"
      ],
      "metadata": {
        "colab": {
          "base_uri": "https://localhost:8080/"
        },
        "id": "RtC83MCGo-xR",
        "outputId": "1f917ddc-8713-4d0d-eb28-546c8191f4b9"
      },
      "execution_count": 2,
      "outputs": [
        {
          "output_type": "stream",
          "name": "stdout",
          "text": [
            "l: 3\n",
            "a: 2\n",
            "o: 2\n",
            "h: 1\n",
            "w: 1\n",
            "e: 1\n",
            "r: 1\n",
            "d: 1\n"
          ]
        }
      ]
    },
    {
      "cell_type": "markdown",
      "source": [
        "**Problem #2:** word_initial_count\n",
        "Write a program that receives a list of words and counts how many of them start with the same initial\n",
        "letter. Ignore case sensitivity."
      ],
      "metadata": {
        "id": "gwChDhAZpCIQ"
      }
    },
    {
      "cell_type": "code",
      "source": [
        "input_words = [\"Apple\", \"Avocado\", \"banana\", \"Berry\", \"apricot\", \"blueberry\"]\n",
        "initial_letters = []\n",
        "for word in input_words:\n",
        "    # Access to first character  in a string  by using [index] notation\n",
        "    first_letter = word[0].lower()\n",
        "    initial_letters.append(first_letter)\n",
        "# Get a collection with first letters without repetitions\n",
        "unique_letters = set(initial_letters)\n",
        "letter_count = {}\n",
        "for letter in unique_letters:\n",
        "    # count how many times a letter is present in input_words as initial\n",
        "    letter_count[letter] = initial_letters.count(letter)\n",
        "# Format output as required\n",
        "for letter in letter_count:\n",
        "    # Letter count object key is the letter and apparitions time is the value\n",
        "    print(f\"{letter}: {letter_count[letter]}\")\n"
      ],
      "metadata": {
        "colab": {
          "base_uri": "https://localhost:8080/"
        },
        "id": "Au0G7_UdpEj4",
        "outputId": "70775783-f34c-4661-b936-b8a8efda6871"
      },
      "execution_count": null,
      "outputs": [
        {
          "output_type": "stream",
          "name": "stdout",
          "text": [
            "t: 2\n",
            "b: 3\n",
            "a: 3\n"
          ]
        }
      ]
    },
    {
      "cell_type": "markdown",
      "source": [
        "**Problem #3:** product_price_analysis\n",
        "\n",
        "Write a program that receives a dictionary of products. Each product has a unique code as key, and its\n",
        "value is another dictionary containing a `'name'` and a `'price'`. The program should display the name\n",
        "and price of the cheapest and the most expensive product.\n"
      ],
      "metadata": {
        "id": "WOoJXmnwpFGD"
      }
    },
    {
      "cell_type": "code",
      "source": [
        "products = {\n",
        "\n",
        "}\n",
        "# Default values for cheapest and most expensive products\n",
        "cheapest= {'name':'No product found','price':None}\n",
        "most_expensive = {'name':'No product found','price':None}\n",
        "\n",
        "for product in products:\n",
        "    product_name = products[product]['name']\n",
        "    product_price = products[product]['price']\n",
        "    # Get last cheapest and most expensive product registered price (It might be None as default value)\n",
        "    current_cheapest = cheapest['price']\n",
        "    current_most_expensive = most_expensive['price']\n",
        "    # Assign cheapest value if is not registered or current product is cheaper\n",
        "    if not cheapest['price'] or product_price < current_cheapest:\n",
        "      cheapest = {'name':product_name,'price':product_price}\n",
        "    # Assign most_expensive product value if is not registered or current product is more expensive\n",
        "    if not most_expensive['price'] or product_price > current_most_expensive:\n",
        "      most_expensive = {'name':product_name,'price':product_price}\n",
        "\n",
        "# Required output\n",
        "print(f\"Cheapest: {cheapest['name']} - ${cheapest['price']}\")\n",
        "print(f\"Most expensive: {most_expensive['name']} - ${most_expensive['price']}\")\n"
      ],
      "metadata": {
        "colab": {
          "base_uri": "https://localhost:8080/"
        },
        "id": "PMdWHZi_pKPp",
        "outputId": "c15f2bea-82d8-444c-a2e2-39282c310a8d"
      },
      "execution_count": null,
      "outputs": [
        {
          "output_type": "stream",
          "name": "stdout",
          "text": [
            "Cheapest: No product found - $None\n",
            "Most expensive: No product found - $None\n"
          ]
        }
      ]
    }
  ]
}