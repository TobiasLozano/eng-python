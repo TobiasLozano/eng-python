{
  "nbformat": 4,
  "nbformat_minor": 0,
  "metadata": {
    "colab": {
      "provenance": [],
      "authorship_tag": "ABX9TyNYKM1Q6CD2nbJqTOW2BAJk",
      "include_colab_link": true
    },
    "kernelspec": {
      "name": "python3",
      "display_name": "Python 3"
    },
    "language_info": {
      "name": "python"
    }
  },
  "cells": [
    {
      "cell_type": "markdown",
      "metadata": {
        "id": "view-in-github",
        "colab_type": "text"
      },
      "source": [
        "<a href=\"https://colab.research.google.com/github/TobiasLozano/eng-python/blob/main/Song.ipynb\" target=\"_parent\"><img src=\"https://colab.research.google.com/assets/colab-badge.svg\" alt=\"Open In Colab\"/></a>"
      ]
    },
    {
      "cell_type": "code",
      "execution_count": null,
      "metadata": {
        "id": "ZeukZiYhYnxb"
      },
      "outputs": [],
      "source": [
        "arr1 = [\"mami\",\"bebe\",\"princess\",\"mami\"]\n",
        "arr2 = [\"yo quiero\", \"yo puedo\", \"to vengo\",\"voy a\"]\n",
        "arr3 = [\"encenderte\",\"amarte\", \"ligar\",\"jugar\"]\n",
        "arr4 = [\"suave\",\"lento\",\"rápido\",\"fuerte\"]\n",
        "arr5 = [\"hasta que salga el sol\",\"toda la noche\", \"hasta el amanecer\",\"todo el día\"]\n",
        "arr6= [\"sin anestecia\",\"sin compromiso\",\"feis to feis\",\"sin miedo\"]\n",
        "\n",
        "options = [arr1,arr2,arr3,arr4,arr5,arr6]\n",
        "song = ''\n",
        "import random\n",
        "for wordList in options:\n",
        "    index = random.randint(0, len(wordList)-1)\n",
        "    song = song + wordList[index] + ' '\n",
        "\n",
        "\n",
        "print(song)"
      ]
    }
  ]
}